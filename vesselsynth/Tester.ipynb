{
 "cells": [
  {
   "cell_type": "code",
   "execution_count": null,
   "id": "f0844edf",
   "metadata": {},
   "outputs": [],
   "source": [
    "# From curves.py\n",
    "import torch\n",
    "#from interpol import grid_pull, grid_push, grid_grad, spline_coeff, identity_grid\n",
    "#import math as pymath\n",
    "#from .brent import Brent\n",
    "\n",
    "# From synth.py\n",
    "#import torch\n",
    "#from torch import nn as tnn\n",
    "#from .curves import BSplineCurve, draw_curves, discretize_equidistant\n",
    "#from . import random\n",
    "#from interpol import identity_grid"
   ]
  },
  {
   "cell_type": "code",
   "execution_count": null,
   "id": "3ca4a2dd",
   "metadata": {},
   "outputs": [],
   "source": []
  }
 ],
 "metadata": {
  "kernelspec": {
   "display_name": "Python 3 (ipykernel)",
   "language": "python",
   "name": "python3"
  },
  "language_info": {
   "codemirror_mode": {
    "name": "ipython",
    "version": 3
   },
   "file_extension": ".py",
   "mimetype": "text/x-python",
   "name": "python",
   "nbconvert_exporter": "python",
   "pygments_lexer": "ipython3",
   "version": "3.10.9"
  }
 },
 "nbformat": 4,
 "nbformat_minor": 5
}
