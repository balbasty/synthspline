{
 "cells": [
  {
   "cell_type": "code",
   "execution_count": 152,
   "id": "3398dd7b",
   "metadata": {},
   "outputs": [],
   "source": [
    "import sys\n",
    "sys.path.append(\"vesselsynth/vesselsynth/\")\n",
    "import vesselsynth.synth\n",
    "\n",
    "\n",
    "import torch\n",
    "import brent\n",
    "import interpol"
   ]
  },
  {
   "cell_type": "code",
   "execution_count": 86,
   "id": "814ec7d4",
   "metadata": {},
   "outputs": [
    {
     "name": "stdout",
     "output_type": "stream",
     "text": [
      "tensor(0)\n",
      "tensor([27.8754, 82.0131, 92.1460])\n"
     ]
    }
   ],
   "source": [
    "shape = [128, 128, 128]\n",
    "dim = len(shape)\n",
    "\n",
    "side1 = torch.randint(2 * dim, [])\n",
    "print(side1)\n",
    "\n",
    "a = torch.cat([torch.rand([1]) * (s - 1) for s in shape])\n",
    "print(a)"
   ]
  },
  {
   "cell_type": "code",
   "execution_count": 193,
   "id": "7eb883af",
   "metadata": {},
   "outputs": [
    {
     "name": "stdout",
     "output_type": "stream",
     "text": [
      "tensor([127,   0,   0])\n"
     ]
    }
   ],
   "source": [
    "if side1 // dim:\n",
    "    a[side1 % dim] = 0\n",
    "    print(a)\n",
    "    \n",
    "else:\n",
    "    a[side1 % dim] = shape[side1 % dim] - 1\n",
    "    print(a)"
   ]
  },
  {
   "cell_type": "code",
   "execution_count": 194,
   "id": "c04afdc7",
   "metadata": {},
   "outputs": [
    {
     "data": {
      "text/plain": [
       "tensor([[  0.,   0.,   0.],\n",
       "        [100., 100., 100.],\n",
       "        [200., 200., 200.],\n",
       "        [300., 300., 300.],\n",
       "        [400., 400., 400.],\n",
       "        [500., 500., 500.],\n",
       "        [600., 600., 600.],\n",
       "        [700., 700., 700.],\n",
       "        [800., 800., 800.],\n",
       "        [900., 900., 900.]])"
      ]
     },
     "execution_count": 194,
     "metadata": {},
     "output_type": "execute_result"
    }
   ],
   "source": [
    "n = 10\n",
    "a = torch.tensor([0, 0, 0])#torch.cat([torch.rand([1]) * (s - 1) for s in shape])\n",
    "b = torch.tensor([100, 100, 100])#torch.cat([torch.rand([1]) * (s - 1) for s in shape])\n",
    "\n",
    "\n",
    "vector = (b - a / (n-1))\n",
    "\n",
    "out = a + vector * torch.arange(n).unsqueeze(-1)\n",
    "out"
   ]
  },
  {
   "cell_type": "code",
   "execution_count": 127,
   "id": "5c0f1c0c",
   "metadata": {},
   "outputs": [
    {
     "data": {
      "text/plain": [
       "tensor([100., 100., 100.])"
      ]
     },
     "execution_count": 127,
     "metadata": {},
     "output_type": "execute_result"
    }
   ],
   "source": [
    "vector"
   ]
  },
  {
   "cell_type": "code",
   "execution_count": 124,
   "id": "b2c8ac1d",
   "metadata": {},
   "outputs": [
    {
     "data": {
      "text/plain": [
       "tensor([0, 0, 0])"
      ]
     },
     "execution_count": 124,
     "metadata": {},
     "output_type": "execute_result"
    }
   ],
   "source": [
    "a"
   ]
  },
  {
   "cell_type": "code",
   "execution_count": 126,
   "id": "f815badb",
   "metadata": {},
   "outputs": [
    {
     "data": {
      "text/plain": [
       "tensor([[  0,   0,   0],\n",
       "        [100, 100, 100],\n",
       "        [200, 200, 200],\n",
       "        [300, 300, 300],\n",
       "        [400, 400, 400],\n",
       "        [500, 500, 500],\n",
       "        [600, 600, 600],\n",
       "        [700, 700, 700],\n",
       "        [800, 800, 800],\n",
       "        [900, 900, 900]])"
      ]
     },
     "execution_count": 126,
     "metadata": {},
     "output_type": "execute_result"
    }
   ],
   "source": [
    "torch.arange(n).unsqueeze(-1) * b"
   ]
  },
  {
   "cell_type": "code",
   "execution_count": 233,
   "id": "551e8ff9",
   "metadata": {},
   "outputs": [
    {
     "name": "stdout",
     "output_type": "stream",
     "text": [
      "tensor([[1, 0, 1, 2],\n",
      "        [1, 2, 0, 2],\n",
      "        [1, 1, 0, 0],\n",
      "        [2, 0, 2, 0]])\n"
     ]
    }
   ],
   "source": [
    "levelmap = torch.randint(0, 3, [4, 4])\n",
    "labels = torch.Tensor([0, 1, 2, 3])\n",
    "print(levelmap)\n",
    "\n",
    "\n",
    "for i, l in enumerate(labels):\n",
    "    levelmap.masked_fill_(labels == i+1, l)"
   ]
  },
  {
   "cell_type": "code",
   "execution_count": 234,
   "id": "66715b17",
   "metadata": {},
   "outputs": [
    {
     "data": {
      "text/plain": [
       "tensor([[1, 0, 1, 2],\n",
       "        [1, 0, 1, 2],\n",
       "        [1, 0, 1, 2],\n",
       "        [2, 0, 1, 2]])"
      ]
     },
     "execution_count": 234,
     "metadata": {},
     "output_type": "execute_result"
    }
   ],
   "source": [
    "levelmap"
   ]
  },
  {
   "cell_type": "code",
   "execution_count": 211,
   "id": "11b6dc2b",
   "metadata": {},
   "outputs": [
    {
     "data": {
      "text/plain": [
       "tensor([[0, 0, 2, 1],\n",
       "        [0, 1, 0, 2],\n",
       "        [0, 2, 1, 1],\n",
       "        [2, 2, 0, 0]])"
      ]
     },
     "execution_count": 211,
     "metadata": {},
     "output_type": "execute_result"
    }
   ],
   "source": [
    "torch.randint(0, 3, [4, 4])"
   ]
  },
  {
   "cell_type": "code",
   "execution_count": 230,
   "id": "9af21f97",
   "metadata": {},
   "outputs": [
    {
     "data": {
      "text/plain": [
       "tensor([0., 1., 2.])"
      ]
     },
     "execution_count": 230,
     "metadata": {},
     "output_type": "execute_result"
    }
   ],
   "source": [
    "torch.Tensor([0, 1, 2])"
   ]
  },
  {
   "cell_type": "code",
   "execution_count": 189,
   "id": "7dc02be4",
   "metadata": {},
   "outputs": [],
   "source": [
    "nb_levels1 = 2\n",
    "\n",
    "curves1, levels1, branchings1 = vesselsynth.synth.SynthSplineBlock([128, 128, 128]).sample_tree(max_level=nb_levels1)"
   ]
  }
 ],
 "metadata": {
  "kernelspec": {
   "display_name": "torch",
   "language": "python",
   "name": "torch"
  },
  "language_info": {
   "codemirror_mode": {
    "name": "ipython",
    "version": 3
   },
   "file_extension": ".py",
   "mimetype": "text/x-python",
   "name": "python",
   "nbconvert_exporter": "python",
   "pygments_lexer": "ipython3",
   "version": "3.10.9"
  }
 },
 "nbformat": 4,
 "nbformat_minor": 5
}
